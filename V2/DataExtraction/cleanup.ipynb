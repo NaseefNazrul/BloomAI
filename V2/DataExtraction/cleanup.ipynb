{
 "cells": [
  {
   "cell_type": "code",
   "execution_count": 5,
   "id": "3810d8e6",
   "metadata": {},
   "outputs": [],
   "source": [
    "import pandas as pd\n",
    "\n",
    "bloom_df = pd.read_csv(\"2_bloom_training_data_2015_2024.csv\")\n",
    "non_bloom_df = pd.read_csv(\"non_bloom_training_data_2015_2024.csv\")\n",
    "train = pd.concat([bloom_df,non_bloom_df],ignore_index=True)\n",
    "train.to_csv(\"training_dataset.csv\")"
   ]
  }
 ],
 "metadata": {
  "kernelspec": {
   "display_name": "Python 3",
   "language": "python",
   "name": "python3"
  },
  "language_info": {
   "codemirror_mode": {
    "name": "ipython",
    "version": 3
   },
   "file_extension": ".py",
   "mimetype": "text/x-python",
   "name": "python",
   "nbconvert_exporter": "python",
   "pygments_lexer": "ipython3",
   "version": "3.10.0"
  }
 },
 "nbformat": 4,
 "nbformat_minor": 5
}
