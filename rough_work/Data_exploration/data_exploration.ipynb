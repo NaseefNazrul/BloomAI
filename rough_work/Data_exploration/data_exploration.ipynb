{
 "cells": [
  {
   "cell_type": "markdown",
   "id": "f8538f9f",
   "metadata": {},
   "source": [
    "This contains all the rough works as it is only for exploring the full data "
   ]
  },
  {
   "cell_type": "code",
   "execution_count": 1,
   "id": "e7b6f0b4",
   "metadata": {},
   "outputs": [],
   "source": [
    "import geopandas as gpd\n",
    "from get_metadata import get_data_from_date_range, get_data_by_country\n",
    "from shapely import wkt\n",
    "import pandas as pd\n",
    "import boto3\n",
    "from botocore import UNSIGNED\n",
    "from botocore.config import Config\n",
    "import requests\n",
    "import os\n",
    "import rasterio\n",
    "import numpy as np\n",
    "\n",
    "#import the libraries"
   ]
  },
  {
   "cell_type": "code",
   "execution_count": null,
   "id": "9ebb1a66",
   "metadata": {},
   "outputs": [],
   "source": [
    "gdf = gpd.read_file(\"WildflowerBlooms_AreaOfInterest.geojson\")\n",
    "BUCKET_NAME = 'radarsat-r1-l1-cog' #aws cli\n",
    "s3client = boto3.client('s3', config=Config(signature_version=UNSIGNED))\n",
    "\n",
    "#Antelope valley from gdf just an example\n",
    "antelope_valley_wkt = 'MULTIPOLYGON (((-118.50266751919736 34.69779051559962, -118.50230233686472 34.774843987788685, -118.50230233686472 34.774843987788685, -118.29013140159532 34.77593953478663, -118.28757512526677 34.620737043410564, -118.41831040035531 34.66748038198971, -118.50266751919736 34.69779051559962)))'\n",
    "\n",
    "#sample data\n",
    "sample = get_data_from_date_range( #march to may cuz spring\n",
    "    start_year = 2010,\n",
    "    start_month = 3,\n",
    "    end_year = 2010,\n",
    "    end_month = 5, \n",
    "    to_csv=True\n",
    ")\n",
    "# The get_metadata.py has a mistake as df.append() has been deprecated in the newer pandas so I edited that part"
   ]
  },
  {
   "cell_type": "code",
   "execution_count": 3,
   "id": "180b2931",
   "metadata": {},
   "outputs": [
    {
     "name": "stdout",
     "output_type": "stream",
     "text": [
      "Index(['Unnamed: 0', 'product-type', 'start-date', 'product-format',\n",
      "       'scene-centre', 'pixel-spacing', 'sensor', 'incidence-angle-high',\n",
      "       'image-pixels', 'sensor-mode', 'orbit-direction', 'polarization',\n",
      "       'corner-coordinates', 'processing-level', 'processor-version',\n",
      "       'product-id', 'public-good', 'image-lines', 'end-date',\n",
      "       'absolute-orbit', 'beam', 'delivery-date', 'processing-date', 'band',\n",
      "       'spatial-resolution', 'order-key', 'position', 'sequence-id', 'title',\n",
      "       'archive-visibility-start-date', 'incidence-angle-low',\n",
      "       'geodetic-terrain-height', 'processor-name', 'look-orientation',\n",
      "       'lut-applied', 'download_link'],\n",
      "      dtype='object')\n"
     ]
    }
   ],
   "source": [
    "#read the data\n",
    "df = pd.read_csv(\"sample.csv\")\n",
    "print(df.columns)"
   ]
  },
  {
   "cell_type": "code",
   "execution_count": 4,
   "id": "ca78f21c",
   "metadata": {},
   "outputs": [
    {
     "name": "stdout",
     "output_type": "stream",
     "text": [
      "              start-date  scene-centre  sensor-mode  incidence-angle-low  \\\n",
      "polarization                                                               \n",
      "HH                   687          1182          687                  687   \n",
      "\n",
      "              incidence-angle-high  product-type  \n",
      "polarization                                      \n",
      "HH                             687          1182  \n"
     ]
    }
   ],
   "source": [
    "essential_columns = [\n",
    "    'start-date', 'scene-centre', 'polarization', 'sensor-mode',\n",
    "    'incidence-angle-low', 'incidence-angle-high','product-type'\n",
    "]\n",
    "filtered_df = df[essential_columns]\n",
    "print(filtered_df.groupby(['polarization']).count())"
   ]
  },
  {
   "cell_type": "markdown",
   "id": "1788748b",
   "metadata": {},
   "source": [
    "Thats weird, it seems like radarsat1 only uses HH polarization, I will check the relationship between product-type and polarization"
   ]
  },
  {
   "cell_type": "code",
   "execution_count": 5,
   "id": "28d722d1",
   "metadata": {},
   "outputs": [
    {
     "name": "stdout",
     "output_type": "stream",
     "text": [
      "product-type  polarization\n",
      "SCN           HH              314\n",
      "SCW           HH              648\n",
      "SGF           HH              192\n",
      "SGX           HH               28\n",
      "dtype: int64\n"
     ]
    }
   ],
   "source": [
    "print(filtered_df.groupby(['product-type', 'polarization']).size())"
   ]
  },
  {
   "cell_type": "markdown",
   "id": "38e4047d",
   "metadata": {},
   "source": [
    "After doing a bit of research, We will be able to calculate the backscatter, for that we need to find the calibration constant K,                                                                                                                            I will use some tif files to clculate the calibration constant "
   ]
  },
  {
   "cell_type": "code",
   "execution_count": 6,
   "id": "569b4357",
   "metadata": {},
   "outputs": [
    {
     "name": "stdout",
     "output_type": "stream",
     "text": [
      "Product types: ['SCW' 'SCN' 'SGF' 'SGX']\n"
     ]
    }
   ],
   "source": [
    "product_types = df['product-type'].unique()\n",
    "print(\"Product types:\", product_types) # will check the tif image from each productype and determine the K value"
   ]
  },
  {
   "cell_type": "code",
   "execution_count": 8,
   "id": "e33e8068",
   "metadata": {},
   "outputs": [
    {
     "name": "stdout",
     "output_type": "stream",
     "text": [
      "\n",
      "=== SCN ===\n",
      "Main tags: {'CEOS_ACQUISITION_TIME': '20100318140938064               ', 'CEOS_ASC_DES': 'DESCENDING      ', 'CEOS_CALIBRATION_OFFSET': '0.0000000E+00', 'CEOS_ELLIPSOID': 'WGS84           ', 'CEOS_EPH_ORB_DATA_0': '7.1670660E+06', 'CEOS_EPH_ORB_DATA_1': '9.4314775E-05', 'CEOS_EPH_ORB_DATA_2': '-1.1509999E-03', 'CEOS_EPH_ORB_DATA_3': '1.1586051E+00', 'CEOS_EPH_ORB_DATA_4': '9.1803633E-02', 'CEOS_EPH_ORB_DATA_5': '1.4940349E+00', 'CEOS_EPH_ORB_DATA_6': '2.0000000E+00', 'CEOS_FACILITY': 'RSI             ', 'CEOS_GROUND_TO_SLANT_C0': '9.0650444E+05', 'CEOS_GROUND_TO_SLANT_C1': '5.0042295E-01', 'CEOS_GROUND_TO_SLANT_C2': '4.8255231E-07', 'CEOS_GROUND_TO_SLANT_C3': '-2.8114184E-13', 'CEOS_GROUND_TO_SLANT_C4': '7.9302200E-20', 'CEOS_GROUND_TO_SLANT_C5': '0.0000000E+00', 'CEOS_INC_ANGLE': '39.202', 'CEOS_LINE_SPACING_METERS': '25.0000000', 'CEOS_LOGICAL_VOLUME_ID': 'RSAT-1-SAR-SCN  ', 'CEOS_MISSION_ID': 'RSAT-1          ', 'CEOS_ORBIT_NUMBER': '75003', 'CEOS_PIXEL_SPACING_METERS': '25.0000000', 'CEOS_PIXEL_TIME_DIR': 'INCREASE', 'CEOS_PLATFORM_HEADING': '-0.058', 'CEOS_PLATFORM_LATITUDE': '50.028', 'CEOS_PLATFORM_LONGITUDE': '-112.632', 'CEOS_PROCESSING_AGENCY': 'RSI     ', 'CEOS_PROCESSING_COUNTRY': 'CANADA      ', 'CEOS_PROCESSING_FACILITY': 'RSI         ', 'CEOS_PROC_START': '2010-077-14:09:41.319', 'CEOS_PROC_STOP': '2010-077-14:10:30.113', 'CEOS_PRODUCT_ID': 'A0597112', 'CEOS_SCENE_LENGTH_KM': '322.7999878', 'CEOS_SCENE_WIDTH_KM': '311.7250061', 'CEOS_SEMI_MAJOR': '6378.1370000', 'CEOS_SEMI_MINOR': '6356.7523142', 'CEOS_SENSOR_CLOCK_ANGLE': '90.000', 'CEOS_SENSOR_ID': 'RSAT-1-C -    -HH               ', 'CEOS_SOFTWARE_ID': 'MSSAR 7.8.1 ', 'CEOS_TRUE_HEADING': '189.8676300', 'CEOS_VOLSET_ID': '2010 31814 938 6', 'AREA_OR_POINT': 'Area'}\n",
      "Band tags: {}\n",
      "FOUND POSSIBLE K: CEOS_CALIBRATION_OFFSET = 0.0000000E+00\n",
      "\n",
      "=== SCW ===\n",
      "Main tags: {'CEOS_ACQUISITION_TIME': '20100301220523541               ', 'CEOS_ASC_DES': 'ASCENDING       ', 'CEOS_CALIBRATION_OFFSET': '0.0000000E+00', 'CEOS_ELLIPSOID': 'WGS84           ', 'CEOS_EPH_ORB_DATA_0': '7.1670845E+06', 'CEOS_EPH_ORB_DATA_1': '4.1585963E-04', 'CEOS_EPH_ORB_DATA_2': '-1.0793974E-03', 'CEOS_EPH_ORB_DATA_3': '1.0853976E+00', 'CEOS_EPH_ORB_DATA_4': '4.1556448E-01', 'CEOS_EPH_ORB_DATA_5': '1.2074587E+00', 'CEOS_EPH_ORB_DATA_6': '2.0000000E+00', 'CEOS_FACILITY': 'RSI             ', 'CEOS_GROUND_TO_SLANT_C0': '8.3278325E+05', 'CEOS_GROUND_TO_SLANT_C1': '3.0297720E-01', 'CEOS_GROUND_TO_SLANT_C2': '6.3727020E-07', 'CEOS_GROUND_TO_SLANT_C3': '-3.1829986E-13', 'CEOS_GROUND_TO_SLANT_C4': '6.6664638E-20', 'CEOS_GROUND_TO_SLANT_C5': '0.0000000E+00', 'CEOS_INC_ANGLE': '36.086', 'CEOS_LINE_SPACING_METERS': '50.0000000', 'CEOS_LOGICAL_VOLUME_ID': 'RSAT-1-SAR-SCW  ', 'CEOS_MISSION_ID': 'RSAT-1          ', 'CEOS_ORBIT_NUMBER': '74765', 'CEOS_PIXEL_SPACING_METERS': '50.0000000', 'CEOS_PIXEL_TIME_DIR': 'INCREASE', 'CEOS_PLATFORM_HEADING': '0.058', 'CEOS_PLATFORM_LATITUDE': '43.774', 'CEOS_PLATFORM_LONGITUDE': '-70.161', 'CEOS_PROCESSING_AGENCY': 'RSI     ', 'CEOS_PROCESSING_COUNTRY': 'CANADA      ', 'CEOS_PROCESSING_FACILITY': 'RSI         ', 'CEOS_PROC_START': '2010-060-22:05:18.250', 'CEOS_PROC_STOP': '2010-060-22:06:41.115', 'CEOS_PRODUCT_ID': 'A0596612', 'CEOS_SCENE_LENGTH_KM': '549.0000000', 'CEOS_SCENE_WIDTH_KM': '559.0499878', 'CEOS_SEMI_MAJOR': '6378.1370000', 'CEOS_SEMI_MINOR': '6356.7523142', 'CEOS_SENSOR_CLOCK_ANGLE': '90.000', 'CEOS_SENSOR_ID': 'RSAT-1-C -    -HH               ', 'CEOS_SOFTWARE_ID': 'MSSAR 7.8.1 ', 'CEOS_TRUE_HEADING': '349.6933899', 'CEOS_VOLSET_ID': '2010 3 122 52354', 'AREA_OR_POINT': 'Area'}\n",
      "Band tags: {}\n",
      "FOUND POSSIBLE K: CEOS_CALIBRATION_OFFSET = 0.0000000E+00\n",
      "\n",
      "=== SGF ===\n",
      "Main tags: {'CEOS_ACQUISITION_TIME': '20100317130052860               ', 'CEOS_ASC_DES': 'DESCENDING      ', 'CEOS_BEAM_TYPE': 'S7', 'CEOS_CALIBRATION_OFFSET': '0.0000000E+00', 'CEOS_ELLIPSOID': 'WGS84           ', 'CEOS_EPH_ORB_DATA_0': '7.1670672E+06', 'CEOS_EPH_ORB_DATA_1': '1.1507705E-04', 'CEOS_EPH_ORB_DATA_2': '-1.1490479E-03', 'CEOS_EPH_ORB_DATA_3': '1.1567533E+00', 'CEOS_EPH_ORB_DATA_4': '1.1271602E-01', 'CEOS_EPH_ORB_DATA_5': '1.4759708E+00', 'CEOS_EPH_ORB_DATA_6': '2.0000000E+00', 'CEOS_FACILITY': 'RSI             ', 'CEOS_GROUND_TO_SLANT_C0': '1.0652610E+06', 'CEOS_GROUND_TO_SLANT_C1': '7.0243435E-01', 'CEOS_GROUND_TO_SLANT_C2': '2.9349355E-07', 'CEOS_GROUND_TO_SLANT_C3': '-1.9647617E-13', 'CEOS_GROUND_TO_SLANT_C4': '8.9271018E-20', 'CEOS_GROUND_TO_SLANT_C5': '-1.4600469E-26', 'CEOS_INC_ANGLE': '47.175', 'CEOS_LINE_SPACING_METERS': '12.5000000', 'CEOS_LOGICAL_VOLUME_ID': 'RSAT-1-SAR-SGF  ', 'CEOS_MISSION_ID': 'RSAT-1          ', 'CEOS_ORBIT_NUMBER': '74988', 'CEOS_PIXEL_SPACING_METERS': '12.5000000', 'CEOS_PIXEL_TIME_DIR': 'DECREASE', 'CEOS_PLATFORM_HEADING': '194.351', 'CEOS_PLATFORM_LATITUDE': '41.235', 'CEOS_PLATFORM_LONGITUDE': '-98.174', 'CEOS_PROCESSING_AGENCY': 'RSI     ', 'CEOS_PROCESSING_COUNTRY': 'CANADA      ', 'CEOS_PROCESSING_FACILITY': 'RSI         ', 'CEOS_PROC_START': '2010-076-13:00:44.610', 'CEOS_PROC_STOP': '2010-076-13:01:01.109', 'CEOS_PRODUCT_ID': 'A0596882', 'CEOS_SCENE_LENGTH_KM': '108.8000000', 'CEOS_SCENE_WIDTH_KM': '111.6750000', 'CEOS_SEMI_MAJOR': '6378.1370000', 'CEOS_SEMI_MINOR': '6356.7523142', 'CEOS_SENSOR_CLOCK_ANGLE': '90.000', 'CEOS_SENSOR_ID': 'RSAT-1-C -    -HH               ', 'CEOS_SOFTWARE_ID': 'MSSAR 7.8.1 ', 'CEOS_TRUE_HEADING': '194.3510132', 'CEOS_VOLSET_ID': '2010 31713 05286', 'AREA_OR_POINT': 'Area'}\n",
      "Band tags: {}\n",
      "FOUND POSSIBLE K: CEOS_CALIBRATION_OFFSET = 0.0000000E+00\n",
      "\n",
      "=== SGX ===\n",
      "Main tags: {'CEOS_ACQUISITION_TIME': '20100316213047404               ', 'CEOS_ASC_DES': 'ASCENDING       ', 'CEOS_BEAM_TYPE': 'S2', 'CEOS_CALIBRATION_OFFSET': '0.0000000E+00', 'CEOS_ELLIPSOID': 'WGS84           ', 'CEOS_EPH_ORB_DATA_0': '7.1670682E+06', 'CEOS_EPH_ORB_DATA_1': '1.2831205E-04', 'CEOS_EPH_ORB_DATA_2': '-1.1483445E-03', 'CEOS_EPH_ORB_DATA_3': '1.1554628E+00', 'CEOS_EPH_ORB_DATA_4': '1.2524486E-01', 'CEOS_EPH_ORB_DATA_5': '1.4651352E+00', 'CEOS_EPH_ORB_DATA_6': '2.0000000E+00', 'CEOS_FACILITY': 'RSI             ', 'CEOS_GROUND_TO_SLANT_C0': '8.6190427E+05', 'CEOS_GROUND_TO_SLANT_C1': '3.9407499E-01', 'CEOS_GROUND_TO_SLANT_C2': '5.6192689E-07', 'CEOS_GROUND_TO_SLANT_C3': '-2.5888929E-13', 'CEOS_GROUND_TO_SLANT_C4': '-6.0869682E-20', 'CEOS_GROUND_TO_SLANT_C5': '1.6111075E-25', 'CEOS_INC_ANGLE': '27.157', 'CEOS_LINE_SPACING_METERS': '8.0000000', 'CEOS_LOGICAL_VOLUME_ID': 'RSAT-1-SAR-SGX  ', 'CEOS_MISSION_ID': 'RSAT-1          ', 'CEOS_ORBIT_NUMBER': '74979', 'CEOS_PIXEL_SPACING_METERS': '8.0000000', 'CEOS_PIXEL_TIME_DIR': 'INCREASE', 'CEOS_PLATFORM_HEADING': '342.824', 'CEOS_PLATFORM_LATITUDE': '54.822', 'CEOS_PLATFORM_LONGITUDE': '-65.543', 'CEOS_PROCESSING_AGENCY': 'RSI     ', 'CEOS_PROCESSING_COUNTRY': 'CANADA      ', 'CEOS_PROCESSING_FACILITY': 'RSI         ', 'CEOS_PROC_START': '2010-075-21:30:39.063', 'CEOS_PROC_STOP': '2010-075-21:30:55.746', 'CEOS_PRODUCT_ID': 'P0597060', 'CEOS_SCENE_LENGTH_KM': '110.8720000', 'CEOS_SCENE_WIDTH_KM': '115.6640000', 'CEOS_SEMI_MAJOR': '6378.1370000', 'CEOS_SEMI_MINOR': '6356.7523142', 'CEOS_SENSOR_CLOCK_ANGLE': '90.000', 'CEOS_SENSOR_ID': 'RSAT-1-C -    -HH               ', 'CEOS_SOFTWARE_ID': 'MSSAR 7.8.1 ', 'CEOS_TRUE_HEADING': '342.8236084', 'CEOS_VOLSET_ID': '2010 31621304740', 'AREA_OR_POINT': 'Area'}\n",
      "Band tags: {}\n",
      "FOUND POSSIBLE K: CEOS_CALIBRATION_OFFSET = 0.0000000E+00\n",
      "\n",
      "FINAL K CONSTANTS: {'SCN': '0.0000000E+00', 'SCW': '0.0000000E+00', 'SGF': '0.0000000E+00', 'SGX': '0.0000000E+00'}\n"
     ]
    }
   ],
   "source": [
    "def find_k_for_product_type(sample_urls):\n",
    "    \"\"\"Checks K constant for a few samples from each product type\"\"\"\n",
    "    k_values = {}\n",
    "    \n",
    "    for product_type, url in sample_urls.items():\n",
    "        try:\n",
    "            with rasterio.open(url) as src:\n",
    "                # Look for K in metadata\n",
    "                tags = src.tags()\n",
    "                band_tags = src.tags(1)\n",
    "                \n",
    "                print(f\"\\n=== {product_type} ===\")\n",
    "                print(\"Main tags:\", tags)\n",
    "                print(\"Band tags:\", band_tags)\n",
    "                \n",
    "                # Try to find K - add common tag names here\n",
    "                for tag_source in [tags, band_tags]:\n",
    "                    for key, value in tag_source.items():\n",
    "                        if any(kw in key.upper() for kw in ['CALIB', 'K', 'CONSTANT', 'FACTOR']):\n",
    "                            print(f\"FOUND POSSIBLE K: {key} = {value}\")\n",
    "                            k_values[product_type] = value\n",
    "                            break\n",
    "                \n",
    "        except Exception as e:\n",
    "            print(f\"Error with {product_type}: {e}\")\n",
    "    \n",
    "    return k_values\n",
    "\n",
    "sample_urls = { # Downloaded in PC\n",
    "    'SCN': 'https://s3-ca-central-1.amazonaws.com/radarsat-r1-l1-cog/2010/3/RS1_A0597112_SCNB_20100318_140941_HH_SCN01F.tif',\n",
    "    'SCW': 'https://s3-ca-central-1.amazonaws.com/radarsat-r1-l1-cog/2010/3/RS1_A0596612_SCWB_20100301_220518_HH_SCW01F.tif',  # Replace with actual\n",
    "    'SGF': 'https://s3-ca-central-1.amazonaws.com/radarsat-r1-l1-cog/2010/3/RS1_A0596882_S7_20100317_130044_HH_SGF01F.tif',\n",
    "    'SGX': 'https://s3-ca-central-1.amazonaws.com/radarsat-r1-l1-cog/2010/3/RS1_P0597060_S2_20100316_213055_HH_SGX.tif'  \n",
    "}\n",
    "\n",
    "k_constants = find_k_for_product_type(sample_urls)\n",
    "print(\"\\nFINAL K CONSTANTS:\", k_constants)"
   ]
  },
  {
   "cell_type": "markdown",
   "id": "a5667a8c",
   "metadata": {},
   "source": [
    "That seems surprising, lets investigate more on why K is 0 even though it isnt supposed to be\n"
   ]
  },
  {
   "cell_type": "code",
   "execution_count": 12,
   "id": "6d1d0825",
   "metadata": {},
   "outputs": [
    {
     "name": "stdout",
     "output_type": "stream",
     "text": [
      "Opening: https://s3-ca-central-1.amazonaws.com/radarsat-r1-l1-cog/2010/5/RS1_G9599057_SCNA_20100517_113949_HH_SCN01F.tif \n",
      "\n",
      ">>> Embedded TIFF tags (matching calibration keywords or numeric hints):\n",
      "\n",
      "  CEOS_CALIBRATION_OFFSET = 0.0000000E+00\n",
      "  CEOS_EPH_ORB_DATA_0 = 7.1670715E+06\n",
      "  CEOS_EPH_ORB_DATA_1 = -9.4544934E-04\n",
      "  CEOS_EPH_ORB_DATA_2 = -6.7466480E-04\n",
      "  CEOS_EPH_ORB_DATA_3 = 6.7447561E-01\n",
      "  CEOS_EPH_ORB_DATA_4 = -9.4644409E-01\n",
      "  CEOS_EPH_ORB_DATA_5 = 2.5247555E+00\n",
      "  CEOS_EPH_ORB_DATA_6 = 2.0000000E+00\n",
      "  CEOS_GROUND_TO_SLANT_C0 = 8.3512556E+05\n",
      "  CEOS_GROUND_TO_SLANT_C1 = 3.1166485E-01\n",
      "  CEOS_GROUND_TO_SLANT_C2 = 6.2132381E-07\n",
      "  CEOS_GROUND_TO_SLANT_C3 = -2.8043751E-13\n",
      "  CEOS_GROUND_TO_SLANT_C4 = 2.4311791E-20\n",
      "  CEOS_INC_ANGLE = 30.172\n",
      "  CEOS_LINE_SPACING_METERS = 25.0000000\n",
      "  CEOS_ORBIT_NUMBER = 75859\n",
      "  CEOS_PIXEL_SPACING_METERS = 25.0000000\n",
      "  CEOS_PLATFORM_HEADING = -0.058\n",
      "  CEOS_PLATFORM_LATITUDE = 45.896\n",
      "  CEOS_PLATFORM_LONGITUDE = -76.558\n",
      "  CEOS_SCENE_LENGTH_KM = 353.4249878\n",
      "  CEOS_SCENE_WIDTH_KM = 345.1749878\n",
      "  CEOS_SEMI_MAJOR = 6378.1370000\n",
      "  CEOS_SEMI_MINOR = 6356.7523142\n",
      "  CEOS_SENSOR_CLOCK_ANGLE = 90.000\n",
      "  CEOS_TRUE_HEADING = 191.2783356\n",
      "\n",
      "Checking companion metadata URLs near the COG (short snippets shown if found)...\n",
      "\n",
      "Checked https://s3-ca-central-1.amazonaws.com/radarsat-r1-l1-cog/2010/5/RS1_G9599057_SCNA_20100517_113949_HH_SCN01F.xml — HTTP 404\n",
      "Checked https://s3-ca-central-1.amazonaws.com/radarsat-r1-l1-cog/2010/5/RS1_G9599057_SCNA_20100517_113949_HH_SCN01F.ann — HTTP 404\n",
      "Checked https://s3-ca-central-1.amazonaws.com/radarsat-r1-l1-cog/2010/5/RS1_G9599057_SCNA_20100517_113949_HH_SCN01F.hdr — HTTP 404\n",
      "Checked https://s3-ca-central-1.amazonaws.com/radarsat-r1-l1-cog/2010/5/RS1_G9599057_SCNA_20100517_113949_HH_SCN01F.meta — HTTP 404\n",
      "Checked https://s3-ca-central-1.amazonaws.com/radarsat-r1-l1-cog/2010/5/RS1_G9599057_SCNA_20100517_113949_HH_SCN01F.txt — HTTP 404\n",
      "Checked https://s3-ca-central-1.amazonaws.com/radarsat-r1-l1-cog/2010/5/RS1_G9599057_SCNA_20100517_113949_HH_SCN01F.xml.gz — HTTP 404\n",
      "\n",
      "No obvious calibration keywords found in companion files. That's OK — try the relative / z-score method or search full product folder on disk for CEOS/annotation files.\n"
     ]
    }
   ],
   "source": [
    "from io import BytesIO\n",
    "\n",
    "# --------- CONFIG: put your URL here ----------\n",
    "url = \"https://s3-ca-central-1.amazonaws.com/radarsat-r1-l1-cog/2010/5/RS1_G9599057_SCNA_20100517_113949_HH_SCN01F.tif\"\n",
    "# ----------------------------------------------\n",
    "\n",
    "CALIB_KEYS = ['CALIB','CALIBRATION','CALFACTOR','CONVERSION','SIGMA','RCS',\n",
    "              'RADIOMETRIC','ABSOLUTE','GAIN','SCALE','FACTOR','BETA','DB']\n",
    "META_EXTS = ['.xml', '.ann', '.hdr', '.meta', '.txt', '.xml.gz']\n",
    "\n",
    "print(\"Opening:\", url, \"\\n\")\n",
    "\n",
    "# 1) Print embedded TIFF tags (filtered)\n",
    "try:\n",
    "    with rasterio.open(url) as src:\n",
    "        tags = src.tags()\n",
    "        band_tags = src.tags(1)\n",
    "        print(\">>> Embedded TIFF tags (matching calibration keywords or numeric hints):\\n\")\n",
    "        for d in (tags, band_tags):\n",
    "            for k, v in d.items():\n",
    "                kup = k.upper()\n",
    "                # Print tag if key looks calibration-y OR value looks numeric (not trivial 0/1)\n",
    "                numeric_hit = False\n",
    "                try:\n",
    "                    f = float(v)\n",
    "                    if f not in (0.0, 1.0) and abs(f) < 1e7:\n",
    "                        numeric_hit = True\n",
    "                except:\n",
    "                    pass\n",
    "                if any(kw in kup for kw in CALIB_KEYS) or numeric_hit:\n",
    "                    print(f\"  {k} = {v}\")\n",
    "except Exception as e:\n",
    "    print(\"Error opening scene with rasterio:\", e)\n",
    "\n",
    "# 2) Try companion metadata files next to the COG URL\n",
    "base = url.rsplit('.', 1)[0]\n",
    "print(\"\\nChecking companion metadata URLs near the COG (short snippets shown if found)...\\n\")\n",
    "found_any = False\n",
    "\n",
    "for ext in META_EXTS:\n",
    "    meta_url = base + ext\n",
    "    try:\n",
    "        r = requests.get(meta_url, timeout=8)\n",
    "    except Exception as e:\n",
    "        print(f\"  Could not fetch {meta_url}: {e}\")\n",
    "        continue\n",
    "\n",
    "    if r.status_code == 200:\n",
    "        # decode .gz if needed\n",
    "        text = None\n",
    "        if ext.endswith('.gz'):\n",
    "            try:\n",
    "                text = gzip.decompress(r.content).decode('utf-8', errors='ignore')\n",
    "            except Exception:\n",
    "                # fallback\n",
    "                text = r.content.decode('utf-8', errors='ignore')\n",
    "        else:\n",
    "            text = r.text\n",
    "\n",
    "        up = text.upper()\n",
    "        hits = [kw for kw in CALIB_KEYS if kw in up]\n",
    "        if hits:\n",
    "            print(f\"FOUND keywords {hits} in {meta_url}\")\n",
    "            snippet = text[:800].replace('\\n', ' ')  # short single-line snippet\n",
    "            print(\"  snippet:\", snippet[:600], \"...\\n\")\n",
    "            found_any = True\n",
    "        else:\n",
    "            print(f\"Checked {meta_url} — no obvious calibration keywords found (HTTP 200).\")\n",
    "    else:\n",
    "        # optional: comment out to reduce noise\n",
    "        print(f\"Checked {meta_url} — HTTP {r.status_code}\")\n",
    "\n",
    "if not found_any:\n",
    "    print(\"\\nNo obvious calibration keywords found in companion files. That's OK — try the relative / z-score method or search full product folder on disk for CEOS/annotation files.\")\n",
    "else:\n",
    "    print(\"If calibration lines were found above, inspect the snippet for numeric constants (CF/K).\")"
   ]
  },
  {
   "cell_type": "markdown",
   "id": "678e3571",
   "metadata": {},
   "source": [
    "I got an undestanding of the data but I give up and will explore EODMS"
   ]
  },
  {
   "cell_type": "markdown",
   "id": "2890f3ea",
   "metadata": {},
   "source": [
    "Seems like I have been wasting my time, there is an API for this whole thing"
   ]
  }
 ],
 "metadata": {
  "kernelspec": {
   "display_name": "Python 3",
   "language": "python",
   "name": "python3"
  },
  "language_info": {
   "codemirror_mode": {
    "name": "ipython",
    "version": 3
   },
   "file_extension": ".py",
   "mimetype": "text/x-python",
   "name": "python",
   "nbconvert_exporter": "python",
   "pygments_lexer": "ipython3",
   "version": "3.10.0"
  }
 },
 "nbformat": 4,
 "nbformat_minor": 5
}
