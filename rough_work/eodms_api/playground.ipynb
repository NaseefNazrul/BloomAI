{
 "cells": [
  {
   "cell_type": "markdown",
   "id": "c8d3589d",
   "metadata": {},
   "source": [
    "This is to explore the eodms api for my project"
   ]
  },
  {
   "cell_type": "code",
   "execution_count": 21,
   "id": "cbbb2083",
   "metadata": {},
   "outputs": [
    {
     "name": "stdout",
     "output_type": "stream",
     "text": [
      "     id                                      Site  Type  Season        Area  \\\n",
      "0  None                               Chino Hills  Wild  Spring   25382.057   \n",
      "1  None           Carrizo Plain National Monument  Wild  Spring  354751.514   \n",
      "2  None  Antelope Valley California Poppy Reserve  Wild  Spring   25182.333   \n",
      "3  None         Laura and Jack Dangermond Reserve  Wild  Spring    9027.693   \n",
      "4  None                          Sedgwick Reserve  Wild  Spring    9511.600   \n",
      "\n",
      "                                            geometry  \n",
      "0  MULTIPOLYGON (((-117.68286 33.87223, -117.7196...  \n",
      "1  MULTIPOLYGON (((-119.50857 34.87044, -119.6043...  \n",
      "2  MULTIPOLYGON (((-118.50267 34.69779, -118.5023...  \n",
      "3  MULTIPOLYGON (((-120.46129 34.56679, -120.4353...  \n",
      "4  MULTIPOLYGON (((-119.95777 34.73243, -119.9831...  \n",
      "MULTIPOLYGON (((-120.46129269331323 34.56678791539294, -120.43533672100645 34.56297086064195, -120.43533672100645 34.56297086064195, -120.3857150092435 34.53434295000947, -120.3899137694696 34.52136496385608, -120.40174663919768 34.51334914887899, -120.41205268702538 34.4996077517754, -120.42655749507917 34.47136154661803, -120.44411594693375 34.44540557431125, -120.45098664548554 34.43853487575946, -120.46778168638993 34.44044340313496, -120.47617920684212 34.44998604001245, -120.47732432326741 34.47021643019273, -120.48304990539391 34.48128588897062, -120.4994632408232 34.496172402499504, -120.5055705284248 34.51029550507819, -120.4967913024975 34.51869302553038, -120.48763037109511 34.54312217593676, -120.47770602874252 34.56182574421665, -120.46129269331323 34.56678791539294)))\n"
     ]
    }
   ],
   "source": [
    "from eodms_rapi import EODMSRAPI\n",
    "import pandas as pd\n",
    "import numpy as np\n",
    "import geopandas as gpd\n",
    "import shapely\n",
    "from shapely.geometry import Polygon, MultiPolygon\n",
    "import json\n",
    "\n",
    "file = open('C:/Users/User/Desktop/nasashit/credentials.txt') # my credentials (not rly important)\n",
    "temp = file.read().splitlines()\n",
    "rapi = EODMSRAPI(temp[0], temp[1])\n",
    "\n",
    "bloom_df = gpd.read_file(\"WildflowerBlooms_AreaOfInterest.geojson\")\n",
    "print(bloom_df.head())\n",
    "print(bloom_df['geometry'][3]) # it is really deatiled which will cause problems for the API"
   ]
  },
  {
   "cell_type": "markdown",
   "id": "c53cb945",
   "metadata": {},
   "source": [
    "After severe testing and research and iterations, I have found that images and data from the collections Radarsat2RawProducts provides data that correlate with my ground truth data which are the ones close to california. The other problem was the geometry of the ground truth data as it is very complex so used simplify method to test things out, below is the edited code after a lot of trials and errors.\n"
   ]
  },
  {
   "cell_type": "code",
   "execution_count": 49,
   "id": "cabe63bd",
   "metadata": {},
   "outputs": [
    {
     "name": "stdout",
     "output_type": "stream",
     "text": [
      "\n",
      "🔧 Testing bloom site geometry with tolerance: 0.01\n",
      "\n",
      "| EODMSRAPI | 2025-10-01 11:45:39 | Searching for Radarsat2RawProducts images on RAPI\n",
      "| EODMSRAPI | 2025-10-01 11:45:39 | Querying records...\n",
      "| EODMSRAPI | 2025-10-01 11:45:39 | RAPI Query URL: https://www.eodms-sgdot.nrcan-rncan.gc.ca/wes/rapi/search?collection=Radarsat2RawProducts&query=%28CATALOG_IMAGE.START_DATETIME%3E%3D%272023-03-01T00%3A00%3A00Z%27+AND+CATALOG_IMAGE.START_DATETIME%3C%3D%272023-06-01T00%3A00%3A00Z%27%29+AND+%28CATALOG_IMAGE.THE_GEOM_4326+INTERSECTS+POLYGON+%28%28-119.50857432459836+34.87043932367128%2C+-119.60433286498474+34.80485128231074%2C+-119.91128489855204+34.91897447427807%2C+-119.96900237494931+34.96226258157603%2C+-120.01491400390168+35.00292716721956%2C+-120.0647609153357+35.09606218595152%2C+-120.33171998482592+35.286150846049985%2C+-120.24423085253207+35.475071589596666%2C+-119.96794412160605+35.481196036658204%2C+-119.53028720564085+35.155843536865184%2C+-119.3866036143617+35.03032683643743%2C+-119.40642204074503+34.96591695069161%2C+-119.3568759747867+34.90315860047773%2C+-119.36513365244643+34.856915605583296%2C+-119.47578653308669+34.80902107515691%2C+-119.50857432459836+34.87043932367128%29%29%29&resultField=CATALOG_IMAGE.THE_GEOM_4326%2CSENSOR_BEAM.SPATIAL_RESOLUTION&format=json&maxResults=100\n",
      "| EODMSRAPI | 2025-10-01 11:45:40 | Number of Radarsat2RawProducts images returned from RAPI: 54\n"
     ]
    },
    {
     "data": {
      "application/vnd.jupyter.widget-view+json": {
       "model_id": "9f51e349f258451f9d679c9792b46566",
       "version_major": 2,
       "version_minor": 0
      },
      "text/plain": [
       "| EODMSRAPI | Fetching result metadata:   0%|          | 0/1908 [00:00<?, ?item/s]"
      ]
     },
     "metadata": {},
     "output_type": "display_data"
    },
    {
     "name": "stdout",
     "output_type": "stream",
     "text": [
      "Tolerance 0.01: Found 1908 scenes with Radarsat2RawProducts\n",
      "✅ SUCCESS! Bloom site geometry works with this tolerance\n"
     ]
    }
   ],
   "source": [
    "selected_site = bloom_df.iloc[1] # testing for Carrizo Plain National Monument\n",
    "site_geometry = selected_site.geometry\n",
    "\n",
    "# Test different simplification levels for your bloom site geometry\n",
    "simplification_levels = [0.01, 0.05, 0.1, 0.2, 0.5]\n",
    "\n",
    "for tolerance in simplification_levels:\n",
    "    print(f\"\\n🔧 Testing bloom site geometry with tolerance: {tolerance}\")\n",
    "    \n",
    "    # Simplify the geometry\n",
    "    simplified_geometry = site_geometry.simplify(tolerance=tolerance, preserve_topology=True)\n",
    "    \n",
    "    def geometry_to_geojson_dict(geom):\n",
    "        \"\"\"Converts a Shapely geometry to a GeoJSON dictionary using the official Shapely function.\"\"\"\n",
    "        geojson_string = shapely.to_geojson(geom)\n",
    "        geojson_dict = json.loads(geojson_string)\n",
    "        return geojson_dict\n",
    "\n",
    "    geometry_geojson = geometry_to_geojson_dict(simplified_geometry)\n",
    "    \n",
    "    feat = [('INTERSECTS', geometry_geojson)]\n",
    "    \n",
    "    dates = [{\"start\": \"20230301_000000\", \"end\": \"20230601_000000\"}]  # Spring 2023 bloom season\n",
    "    filters = {}\n",
    "    \n",
    "    # Test with Radarsat2RawProducts (the collection that worked best)\n",
    "    rapi.search(\"Radarsat2RawProducts\", filters=filters, features=feat, dates=dates, max_results=100)\n",
    "    results = rapi.get_results('full')\n",
    "    print(f\"Tolerance {tolerance}: Found {len(results)} scenes with Radarsat2RawProducts\")\n",
    "    \n",
    "    if len(results) > 0:\n",
    "        print(\"✅ SUCCESS! Bloom site geometry works with this tolerance\")\n",
    "        break\n",
    "\n",
    "# using cali as the fallback\n",
    "if len(results) == 0:\n",
    "    print(\"\\n🔄 Using California bounding box as fallback...\")\n",
    "    feat = [('INTERSECTS', {\n",
    "        \"type\": \"Polygon\",\n",
    "        \"coordinates\": [[\n",
    "            [-124.4, 32.5],\n",
    "            [-114.1, 32.5],  #this is californias coordinates\n",
    "            [-114.1, 42.0],\n",
    "            [-124.4, 42.0],\n",
    "            [-124.4, 32.5]\n",
    "        ]]\n",
    "    })]\n",
    "    \n",
    "    collections = ['Radarsat2RawProducts']  # Just test the best collection\n",
    "    for collection in collections: \n",
    "        rapi.search(collection, filters=filters, features=feat, dates=dates, max_results=1000)\n",
    "        results = rapi.get_results('full')\n",
    "        print(f\"California bbox with {collection}: Found {len(results)} scenes\")"
   ]
  },
  {
   "cell_type": "code",
   "execution_count": 53,
   "id": "214110f5",
   "metadata": {},
   "outputs": [
    {
     "name": "stdout",
     "output_type": "stream",
     "text": [
      "✅ Saved 1908 scenes to 'bloomwatch_scenes_metadata.csv'\n",
      "📊 CSV has 119 columns\n",
      "\n",
      "📋 Available columns:\n",
      "  - recordId\n",
      "  - collectionId\n",
      "  - clientOrderNumber\n",
      "  - vapEnabled\n",
      "  - withinOrbitTube\n",
      "  - processingFacility\n",
      "  - clientOrderItemNumber\n",
      "  - beamModeVersion\n",
      "  - beamMnemonic\n",
      "  - providerId\n",
      "  - quicklookFullName\n",
      "  - productDatum\n",
      "  - orbitDataSource\n",
      "  - processingLevel\n",
      "  - incidenceAngle\n",
      "  - eulaFilename\n",
      "  - numberOfAzimuthLooks\n",
      "  - productType\n",
      "  - polarization\n",
      "  - beamModeType\n",
      "      recordId          collectionId clientOrderNumber vapEnabled  \\\n",
      "0     16678409      RCMImageProducts                         true   \n",
      "1     16678427      RCMImageProducts                         true   \n",
      "2     16673398      RCMImageProducts                         true   \n",
      "3     16639864      RCMImageProducts                         true   \n",
      "4     16639742      RCMImageProducts                         true   \n",
      "...        ...                   ...               ...        ...   \n",
      "1903  15933895  Radarsat2RawProducts               NaN        NaN   \n",
      "1904  15933894  Radarsat2RawProducts               NaN        NaN   \n",
      "1905  15915143  Radarsat2RawProducts               NaN        NaN   \n",
      "1906  15897470  Radarsat2RawProducts               NaN        NaN   \n",
      "1907  15897469  Radarsat2RawProducts               NaN        NaN   \n",
      "\n",
      "     withinOrbitTube processingFacility clientOrderItemNumber beamModeVersion  \\\n",
      "0               true               SHUB                                     2   \n",
      "1               true               SHUB                                     2   \n",
      "2               true               SHUB                                     2   \n",
      "3               true               SHUB                                     2   \n",
      "4               true               SHUB                                     2   \n",
      "...              ...                ...                   ...             ...   \n",
      "1903             NaN                NaN                   NaN             NaN   \n",
      "1904             NaN                NaN                   NaN             NaN   \n",
      "1905             NaN                NaN                   NaN             NaN   \n",
      "1906             NaN                NaN                   NaN             NaN   \n",
      "1907             NaN                NaN                   NaN             NaN   \n",
      "\n",
      "     beamMnemonic providerId  ... segmentQuality      sensor  \\\n",
      "0          SC50MB          1  ...            NaN         NaN   \n",
      "1          SC50MB          1  ...            NaN         NaN   \n",
      "2          SC50MB          1  ...            NaN         NaN   \n",
      "3          SC50MB          1  ...            NaN         NaN   \n",
      "4          SC50MB          1  ...            NaN         NaN   \n",
      "...           ...        ...  ...            ...         ...   \n",
      "1903          NaN          1  ...           Good  RADARSAT-2   \n",
      "1904          NaN          1  ...           Good  RADARSAT-2   \n",
      "1905          NaN          1  ...           Good  RADARSAT-2   \n",
      "1906          NaN          1  ...           Good  RADARSAT-2   \n",
      "1907          NaN          1  ...           Good  RADARSAT-2   \n",
      "\n",
      "     transmitPolarization                  startDate position      sensorMode  \\\n",
      "0                     NaN                        NaN      NaN             NaN   \n",
      "1                     NaN                        NaN      NaN             NaN   \n",
      "2                     NaN                        NaN      NaN             NaN   \n",
      "3                     NaN                        NaN      NaN             NaN   \n",
      "4                     NaN                        NaN      NaN             NaN   \n",
      "...                   ...                        ...      ...             ...   \n",
      "1903                    H  2023-03-07T01:46:05 +0000      U73       Ultrafine   \n",
      "1904                    H  2023-03-07T01:45:39 +0000    XF0W1      Extra Fine   \n",
      "1905                    H  2023-03-04T13:49:40 +0000    U24W2  Wide Ultrafine   \n",
      "1906                    H  2023-03-03T02:02:46 +0000    U20W2  Wide Ultrafine   \n",
      "1907                    H  2023-03-03T02:02:39 +0000    U20W2  Wide Ultrafine   \n",
      "\n",
      "                  processedDate  imageId  \\\n",
      "0                           NaN      NaN   \n",
      "1                           NaN      NaN   \n",
      "2                           NaN      NaN   \n",
      "3                           NaN      NaN   \n",
      "4                           NaN      NaN   \n",
      "...                         ...      ...   \n",
      "1903  2023-03-07T01:46:05 +0000  1038284   \n",
      "1904  2023-03-07T01:45:18 +0000  1038283   \n",
      "1905  2023-03-04T13:49:40 +0000  1037722   \n",
      "1906  2023-03-03T02:02:39 +0000  1037436   \n",
      "1907  2023-03-03T02:02:39 +0000  1037436   \n",
      "\n",
      "                                    messageId                    endDate  \n",
      "0                                         NaN                        NaN  \n",
      "1                                         NaN                        NaN  \n",
      "2                                         NaN                        NaN  \n",
      "3                                         NaN                        NaN  \n",
      "4                                         NaN                        NaN  \n",
      "...                                       ...                        ...  \n",
      "1903  PASS_ACS__OMS__1486516781538981.CAT_UPD  2023-03-07T01:46:08 +0000  \n",
      "1904  PASS_ACS__OMS__1907616781542781.CAT_UPD  2023-03-07T01:46:02 +0000  \n",
      "1905  PASS_ACS__OMS__1302816779384241.CAT_UPD  2023-03-04T13:49:48 +0000  \n",
      "1906   PASS_ACS__OMS__165216778092771.CAT_UPD  2023-03-03T02:02:54 +0000  \n",
      "1907   PASS_ACS__OMS__165216778092771.CAT_UPD  2023-03-03T02:02:47 +0000  \n",
      "\n",
      "[1908 rows x 119 columns]\n"
     ]
    }
   ],
   "source": [
    "df = pd.json_normalize(results)\n",
    "\n",
    "# Save to CSV\n",
    "csv_filename = \"bloomwatch_scenes_metadata.csv\"\n",
    "df.to_csv(csv_filename, index=False)\n",
    "\n",
    "print(f\"✅ Saved {len(df)} scenes to '{csv_filename}'\")\n",
    "print(f\"📊 CSV has {len(df.columns)} columns\")\n",
    "\n",
    "# Show the column names to see what data you have\n",
    "print(\"\\n📋 Available columns:\")\n",
    "for col in df.columns.tolist()[:20]:  # First 20 columns\n",
    "    print(f\"  - {col}\")\n",
    "\n",
    "print(df)"
   ]
  },
  {
   "cell_type": "code",
   "execution_count": 59,
   "id": "502e3422",
   "metadata": {},
   "outputs": [
    {
     "name": "stdout",
     "output_type": "stream",
     "text": [
      "🎯 BLOOMWATCH SCENE ANALYSIS\n",
      "==================================================\n",
      "📊 Total scenes: 1,908\n",
      "📅 Date range: 2023-03-02 to 2023-05-30\n",
      "🛰️ Collections: ['RCMImageProducts', 'Radarsat2RawProducts']\n",
      "\n",
      "📡 Polarizations available:\n",
      "   HH: 1720 scenes\n",
      "   HH HV: 88 scenes\n",
      "   VV VH: 47 scenes\n",
      "   HH VV HV VH: 28 scenes\n",
      "   CH CV: 17 scenes\n",
      "   VV: 8 scenes\n",
      "\n",
      "🔍 Spatial resolutions:\n",
      "   2: 680 scenes\n",
      "   6: 332 scenes\n",
      "   40: 314 scenes\n",
      "   3: 278 scenes\n",
      "   8: 136 scenes\n",
      "   50: 73 scenes\n",
      "   30: 58 scenes\n",
      "   1: 25 scenes\n",
      "   100: 12 scenes\n"
     ]
    }
   ],
   "source": [
    "import numpy as np\n",
    "from datetime import datetime\n",
    "\n",
    "# Load your CSV\n",
    "df = pd.read_csv(\"bloomwatch_scenes_metadata.csv\")\n",
    "\n",
    "print(\"🎯 BLOOMWATCH SCENE ANALYSIS\")\n",
    "print(\"=\" * 50)\n",
    "\n",
    "# Fix date columns - handle any format issues\n",
    "def safe_date_convert(date_str):\n",
    "    try:\n",
    "        # Extract just the date part (before 'T' or space)\n",
    "        if pd.isna(date_str):\n",
    "            return pd.NaT\n",
    "        date_part = str(date_str).split('T')[0].split(' ')[0]\n",
    "        return pd.to_datetime(date_part)\n",
    "    except:\n",
    "        return pd.NaT\n",
    "\n",
    "df['acquisition_date'] = df['acquisitionStartDate'].apply(safe_date_convert)\n",
    "df['acquisition_date'] = pd.to_datetime(df['acquisition_date'])\n",
    "\n",
    "print(f\"📊 Total scenes: {len(df):,}\")\n",
    "print(f\"📅 Date range: {df['acquisition_date'].min().strftime('%Y-%m-%d')} to {df['acquisition_date'].max().strftime('%Y-%m-%d')}\")\n",
    "print(f\"🛰️ Collections: {df['collectionId'].unique().tolist()}\")\n",
    "\n",
    "# Polarization analysis\n",
    "print(f\"\\n📡 Polarizations available:\")\n",
    "polarization_counts = df['polarization'].value_counts()\n",
    "for pol, count in polarization_counts.items():\n",
    "    print(f\"   {pol}: {count} scenes\")\n",
    "\n",
    "# Resolution analysis\n",
    "print(f\"\\n🔍 Spatial resolutions:\")\n",
    "resolution_counts = df['spatialResolution'].value_counts().head(10)\n",
    "for res, count in resolution_counts.items():\n",
    "    print(f\"   {res}: {count} scenes\")\n",
    "\n",
    "\n",
    "\n"
   ]
  },
  {
   "cell_type": "code",
   "execution_count": 60,
   "id": "9fb89590",
   "metadata": {},
   "outputs": [
    {
     "name": "stdout",
     "output_type": "stream",
     "text": [
      "\n",
      "🌸 BLOOM SEASON COVERAGE (March-May 2023):\n",
      "   March: 17 scenes\n",
      "   April: 43 scenes\n",
      "   May: 42 scenes\n",
      "\n",
      "📈 YEARLY COVERAGE:\n",
      "   2023.0: 102 scenes\n"
     ]
    }
   ],
   "source": [
    "# analysing the temps\n",
    "# Analyze scenes by month for bloom season\n",
    "print(f\"\\n🌸 BLOOM SEASON COVERAGE (March-May 2023):\")\n",
    "bloom_season = df[\n",
    "    (df['acquisition_date'].dt.year == 2023) & \n",
    "    (df['acquisition_date'].dt.month.isin([3, 4, 5]))\n",
    "]\n",
    "\n",
    "if len(bloom_season) > 0:\n",
    "    monthly_counts = bloom_season['acquisition_date'].dt.month.value_counts().sort_index()\n",
    "    month_names = {3: 'March', 4: 'April', 5: 'May'}\n",
    "    for month, count in monthly_counts.items():\n",
    "        print(f\"   {month_names.get(month, month)}: {count} scenes\")\n",
    "else:\n",
    "    print(\"   No scenes found in bloom season 2023\")\n",
    "    \n",
    "# Check other years too\n",
    "print(f\"\\n📈 YEARLY COVERAGE:\")\n",
    "yearly_counts = df['acquisition_date'].dt.year.value_counts().sort_index()\n",
    "for year, count in yearly_counts.items():\n",
    "    print(f\"   {year}: {count} scenes\")"
   ]
  },
  {
   "cell_type": "code",
   "execution_count": 61,
   "id": "65fb1c7f",
   "metadata": {},
   "outputs": [
    {
     "name": "stdout",
     "output_type": "stream",
     "text": [
      "\n",
      "🌟 FINDING OPTIMAL SCENES FOR ML:\n",
      "   Scenes with HV/VH polarization: 85\n",
      "   Best polarization distribution:\n",
      "     HH HV: 85 scenes\n",
      "\n",
      "   📅 Optimal scenes by year:\n",
      "     2023: 85 scenes\n"
     ]
    }
   ],
   "source": [
    "# Find the best scenes for bloom detection\n",
    "print(f\"\\n🌟 FINDING OPTIMAL SCENES FOR ML:\")\n",
    "\n",
    "# Convert spatialResolution to numeric safely\n",
    "df['resolution_num'] = pd.to_numeric(df['spatialResolution'], errors='coerce')\n",
    "\n",
    "optimal_criteria = df[\n",
    "    (df['polarization'].str.contains('HV|VH', na=False)) &  # Vegetation-sensitive\n",
    "    (df['resolution_num'] <= 100) &  # Reasonable resolution\n",
    "    (df['acquisition_date'].dt.year >= 2020)  # Recent data\n",
    "].copy()\n",
    "\n",
    "print(f\"   Scenes with HV/VH polarization: {len(optimal_criteria)}\")\n",
    "\n",
    "if len(optimal_criteria) > 0:\n",
    "    print(f\"   Best polarization distribution:\")\n",
    "    best_pol_counts = optimal_criteria['polarization'].value_counts()\n",
    "    for pol, count in best_pol_counts.items():\n",
    "        print(f\"     {pol}: {count} scenes\")\n",
    "        \n",
    "    # Show date distribution of optimal scenes\n",
    "    print(f\"\\n   📅 Optimal scenes by year:\")\n",
    "    optimal_years = optimal_criteria['acquisition_date'].dt.year.value_counts().sort_index()\n",
    "    for year, count in optimal_years.items():\n",
    "        print(f\"     {year}: {count} scenes\")"
   ]
  },
  {
   "cell_type": "markdown",
   "id": "5141975b",
   "metadata": {},
   "source": [
    "Now that sample data collection has ended, lets extract all the useful data depending on the ground truth geometries"
   ]
  },
  {
   "cell_type": "markdown",
   "id": "406acf59",
   "metadata": {},
   "source": [
    "ok seems like I cant really work with this data there is no "
   ]
  }
 ],
 "metadata": {
  "kernelspec": {
   "display_name": "Python 3",
   "language": "python",
   "name": "python3"
  },
  "language_info": {
   "codemirror_mode": {
    "name": "ipython",
    "version": 3
   },
   "file_extension": ".py",
   "mimetype": "text/x-python",
   "name": "python",
   "nbconvert_exporter": "python",
   "pygments_lexer": "ipython3",
   "version": "3.10.0"
  }
 },
 "nbformat": 4,
 "nbformat_minor": 5
}
